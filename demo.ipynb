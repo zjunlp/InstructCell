{
 "cells": [
  {
   "cell_type": "code",
   "execution_count": 1,
   "metadata": {},
   "outputs": [
    {
     "name": "stderr",
     "output_type": "stream",
     "text": [
     ]
    }
   ],
   "source": [
    "from mmllm.module import InstructCell\n",
    "import anndata\n",
    "import numpy as np\n",
    "from utils import unify_gene_features"
   ]
  },
  {
   "cell_type": "markdown",
   "metadata": {},
   "source": [
    "# Cell type annotation\n",
    "\n",
    "This example demonstrates the cell type annotation task using the **InstructCell** model. The objective is to annotate a single cell based on its gene expression profile and metadata, such as species, tissue, and sequencing method.\n",
    "\n",
    "- **Input Data**: A single-cell dataset in **H5AD format** and a **gene vocabulary file**.\n",
    "- **Metadata**: Metadata from the dataset (e.g., species, tissue, sequencing method) is extracted for annotation.\n",
    "- **Prompt**: The prompt dynamically integrates metadata and the gene expression profile to guide the model.\n",
    "- **Output**: The model predicts annotations for the single cell.\n",
    "\n",
    "Below is the implementation:"
   ]
  },
  {
   "cell_type": "code",
   "execution_count": 2,
   "metadata": {},
   "outputs": [
    {
     "name": "stdout",
     "output_type": "stream",
     "text": [
      "text: \n",
      "Based on the provided gene expression profile, the cell from the human sequenced using HiSeq X Ten System and derived from liver has been annotated as T Cell.\n"
     ]
    }
   ],
   "source": [
    "# Load the pre-trained InstructCell-chat model from HuggingFace\n",
    "model = InstructCell.from_pretrained(\"zjunlp/InstructCell-chat\") \n",
    "\n",
    "# Load the single-cell data (H5AD format) and gene vocabulary file (numpy format)\n",
    "adata = anndata.read_h5ad(\"./exp_log/demo_data/cell_type_annotation/He-2020-Liver/rna.h5ad\")\n",
    "gene_vocab = np.load(\"./exp_log/gene_vocab.npy\")\n",
    "adata = unify_gene_features(adata, gene_vocab, force_gene_symbol_uppercase=False)\n",
    "\n",
    "# Select a random single-cell sample and extract its gene counts and metadata\n",
    "k = np.random.randint(0, len(adata)) \n",
    "gene_counts = adata[k, :].X.toarray()\n",
    "sc_metadata = adata[k, :].obs.iloc[0].to_dict()\n",
    "\n",
    "# Define the model prompt with placeholders for metadata and gene expression profile\n",
    "prompt = (\n",
    "    \"Can you help me annotate this single cell from a {species}?  It was sequenced using {sequencing_method} and is derived from {tissue}. The gene expression profile is {input}. Thanks!\"\n",
    ")\n",
    "\n",
    "# Use the model to generate predictions\n",
    "for key, value in model.predict(\n",
    "    prompt, \n",
    "    gene_counts=gene_counts, \n",
    "    sc_metadata=sc_metadata, \n",
    "    do_sample=True, \n",
    "    top_p=0.95,\n",
    "    top_k=50,\n",
    "    max_new_tokens=256,\n",
    ").items():\n",
    "    if value is not None:  \n",
    "        print(f\"{key}: \\n{value}\")"
   ]
  },
  {
   "cell_type": "code",
   "execution_count": 3,
   "metadata": {},
   "outputs": [
    {
     "name": "stdout",
     "output_type": "stream",
     "text": [
      "text: \n",
      "Macrophage\n"
     ]
    }
   ],
   "source": [
    "# Load the pre-trained InstructCell-instruct model from HuggingFace\n",
    "model = InstructCell.from_pretrained(\"zjunlp/InstructCell-instruct\") \n",
    "\n",
    "# Load the single-cell data (H5AD format) and gene vocabulary file (numpy format)\n",
    "adata = anndata.read_h5ad(\"./exp_log/demo_data/cell_type_annotation/He-2020-Liver/rna.h5ad\")\n",
    "gene_vocab = np.load(\"./exp_log/gene_vocab.npy\")\n",
    "adata = unify_gene_features(adata, gene_vocab, force_gene_symbol_uppercase=False)\n",
    "\n",
    "# Select a random single-cell sample and extract its gene counts and metadata\n",
    "k = np.random.randint(0, len(adata)) \n",
    "gene_counts = adata[k, :].X.toarray()\n",
    "sc_metadata = adata[k, :].obs.iloc[0].to_dict()\n",
    "\n",
    "# Define the model prompt with placeholders for metadata and gene expression profile\n",
    "prompt = (\n",
    "    \"Can you help me annotate this single cell from a {species}? It was sequenced using {sequencing_method} and is derived from {tissue}. The gene expression profile is {input}. Thanks!\"\n",
    ")\n",
    "\n",
    "# Use the model to generate predictions\n",
    "for key, value in model.predict(\n",
    "    prompt, \n",
    "    gene_counts=gene_counts, \n",
    "    sc_metadata=sc_metadata, \n",
    "    do_sample=True, \n",
    "    top_p=0.95,\n",
    "    top_k=50,\n",
    "    max_new_tokens=256,\n",
    ").items():\n",
    "    if value is not None:  \n",
    "        print(f\"{key}: \\n{value}\")"
   ]
  },
  {
   "cell_type": "markdown",
   "metadata": {},
   "source": [
    "# Conditional pseudo-cell generation\n",
    "\n",
    "This example demonstrates the conditional pseudo-cell generation task using the **InstructCell** model. The goal is to generate a synthetic gene expression profile based on provided metadata, such as cell type, species, tissue, and sequencing method.\n",
    "\n",
    "- **Input Data**: A single-cell dataset in **H5AD format** and a **gene vocabulary file**.\n",
    "- **Metadata**: Metadata from the dataset (e.g., cell type, species, tissue, sequencing method) is used to define the prompt.\n",
    "- **Prompt**: The prompt dynamically incorporates metadata to guide the model in generating a conditional pseudo-cell profile.\n",
    "- **Output**: The generated gene profile is ranked and displayed, highlighting the top 20 genes with the highest expression levels.\n",
    "\n",
    "Below is the implementation:"
   ]
  },
  {
   "cell_type": "code",
   "execution_count": 4,
   "metadata": {},
   "outputs": [
    {
     "name": "stderr",
     "output_type": "stream",
     "text": [
     ]
    },
    {
     "name": "stdout",
     "output_type": "stream",
     "text": [
      "text: \n",
      "Sure, here is a single-cell gene profile based on your specifications: Cell Type: CD4+/CD45RA+/CD25- Naive T Species: human Tissue: peripheral blood Sequencing Method: 10xGenomics (GemCode Technology Platform)\n",
      "cell: \n",
      "RPS2: 62\n",
      "MALAT1: 52\n",
      "RPL10: 50\n",
      "RPS18: 37\n",
      "RPL13A: 33\n",
      "RPL13: 29\n",
      "RPS4X: 26\n",
      "RPS12: 24\n",
      "RPS19: 21\n",
      "RPS27: 21\n",
      "RPS9: 20\n",
      "TPT1: 20\n",
      "RPL19: 19\n",
      "RPL11: 18\n",
      "RPS3: 18\n",
      "TMSB4X: 18\n",
      "RPL15: 17\n",
      "RPL21: 17\n",
      "ACTB: 17\n",
      "B2M: 16\n"
     ]
    }
   ],
   "source": [
    "# Load the pre-trained InstructCell model from HuggingFace\n",
    "model = InstructCell.from_pretrained(\"zjunlp/InstructCell-chat\") \n",
    "\n",
    "# Load the single-cell data (H5AD format) and gene vocabulary file (numpy format)\n",
    "adata = anndata.read_h5ad(\"./exp_log/demo_data/conditional_pseudo_cell_generation/PBMC68K/rna.h5ad\")\n",
    "gene_vocab = np.load(\"./exp_log/gene_vocab.npy\")\n",
    "adata = unify_gene_features(adata, gene_vocab, force_gene_symbol_uppercase=False)\n",
    "\n",
    "# Select a random single-cell sample and extract its metadata\n",
    "k = np.random.randint(0, len(adata)) \n",
    "sc_metadata = adata[k, :].obs.iloc[0].to_dict()\n",
    "\n",
    "# Define the model prompt with placeholders for metadata\n",
    "prompt = (\n",
    "    \"Hey, can you whip up a single-cell gene profile for the given specs: cell type is {cell_type}, species is {species}, tissue is {tissue}, and sequencing method is {sequencing_method}?\"\n",
    ")\n",
    "\n",
    "\n",
    "for key, value in model.predict(\n",
    "    prompt, \n",
    "    sc_metadata=sc_metadata, \n",
    "    do_sample=True, \n",
    "    top_p=0.95,\n",
    "    top_k=50,\n",
    "    max_new_tokens=256,\n",
    ").items():\n",
    "    if not isinstance(value, str): \n",
    "        value = '\\n'.join(\n",
    "            f\"{gene_vocab[idx]}: {int(value[idx])}\" for idx in np.argsort(-value)[: 20]\n",
    "        )\n",
    "    if value is not None:  \n",
    "        print(f\"{key}: \\n{value}\")"
   ]
  },
  {
   "cell_type": "code",
   "execution_count": 5,
   "metadata": {},
   "outputs": [
    {
     "name": "stderr",
     "output_type": "stream",
     "text": [
     ]
    },
    {
     "name": "stdout",
     "output_type": "stream",
     "text": [
      "cell: \n",
      "B2M: 42\n",
      "MALAT1: 38\n",
      "RPS2: 31\n",
      "RPL10: 29\n",
      "RPL13A: 24\n",
      "RPL3: 24\n",
      "RPS19: 22\n",
      "RPL7: 18\n",
      "RPL13: 18\n",
      "ACTB: 16\n",
      "MT-CO1: 13\n",
      "RPS27: 12\n",
      "RPS12: 12\n",
      "HLA-C: 12\n",
      "RPL11: 11\n",
      "EEF1D: 11\n",
      "TMSB4X: 10\n",
      "RPS25: 10\n",
      "GNLY: 9\n",
      "RPS3A: 9\n"
     ]
    }
   ],
   "source": [
    "# Load the pre-trained InstructCell-instruct model from HuggingFace\n",
    "model = InstructCell.from_pretrained(\"zjunlp/InstructCell-instruct\") \n",
    "\n",
    "# Load the single-cell data (H5AD format) and gene vocabulary file (numpy format)\n",
    "adata = anndata.read_h5ad(\"./exp_log/demo_data/conditional_pseudo_cell_generation/PBMC68K/rna.h5ad\")\n",
    "gene_vocab = np.load(\"./exp_log/gene_vocab.npy\")\n",
    "adata = unify_gene_features(adata, gene_vocab, force_gene_symbol_uppercase=False)\n",
    "\n",
    "# Select a random single-cell sample and extract its metadata\n",
    "k = np.random.randint(0, len(adata)) \n",
    "sc_metadata = adata[k, :].obs.iloc[0].to_dict()\n",
    "\n",
    "# Define the model prompt with placeholders for metadata\n",
    "prompt = (\n",
    "    \"Hey, can you whip up a single-cell gene profile for the given specs: cell type is {cell_type}, species is {species}, tissue is {tissue}, and sequencing method is {sequencing_method}?\"\n",
    ")\n",
    "\n",
    "\n",
    "for key, value in model.predict(\n",
    "    prompt, \n",
    "    sc_metadata=sc_metadata, \n",
    "    do_sample=True, \n",
    "    top_p=0.95,\n",
    "    top_k=50,\n",
    "    max_new_tokens=256,\n",
    ").items():\n",
    "    if not isinstance(value, str): \n",
    "        value = '\\n'.join(\n",
    "            f\"{gene_vocab[idx]}: {int(value[idx])}\" for idx in np.argsort(-value)[: 20]\n",
    "        )\n",
    "        if value is not None:  \n",
    "            print(f\"{key}: \\n{value}\")"
   ]
  },
  {
   "cell_type": "markdown",
   "metadata": {},
   "source": [
    "We also support directly specifying and inputting the exact values for each placeholder in the prompt, as shown in this example："
   ]
  },
  {
   "cell_type": "code",
   "execution_count": 6,
   "metadata": {},
   "outputs": [
    {
     "name": "stderr",
     "output_type": "stream",
     "text": [
     ]
    },
    {
     "name": "stdout",
     "output_type": "stream",
     "text": [
      "cell: \n",
      "MALAT1: 36\n",
      "RPL13: 23\n",
      "ACTB: 17\n",
      "RPL10: 16\n",
      "RPL13A: 13\n",
      "RPL19: 13\n",
      "RPS2: 13\n",
      "RPS6: 12\n",
      "RPL3: 11\n",
      "RPL7A: 10\n",
      "RPS19: 10\n",
      "RPL21: 10\n",
      "PFN1: 8\n",
      "RPS3: 8\n",
      "B2M: 8\n",
      "RPL18A: 8\n",
      "RPL9: 7\n",
      "RPL11: 7\n",
      "RPS27: 7\n",
      "RPS16: 6\n"
     ]
    }
   ],
   "source": [
    "# Load the pre-trained InstructCell-chat model from HuggingFace\n",
    "model = InstructCell.from_pretrained(\"zjunlp/InstructCell-chat\") \n",
    "\n",
    "# Load the single-cell data (H5AD format) and gene vocabulary file (numpy format)\n",
    "adata = anndata.read_h5ad(\"./exp_log/demo_data/conditional_pseudo_cell_generation/PBMC68K/rna.h5ad\")\n",
    "gene_vocab = np.load(\"./exp_log/gene_vocab.npy\")\n",
    "adata = unify_gene_features(adata, gene_vocab, force_gene_symbol_uppercase=False)\n",
    "\n",
    "# Select a random single-cell sample and extract its metadata\n",
    "k = np.random.randint(0, len(adata)) \n",
    "sc_metadata = adata[k, :].obs.iloc[0].to_dict()\n",
    "\n",
    "# Define the model prompt\n",
    "prompt = (\n",
    "    \"Hey, can you whip up a single-cell gene profile for the given specs: cell type is CD56+ NK, species is human, tissue is peripheral blood, and sequencing method is 10xGenomics (GemCode Technology Platform)?\"\n",
    ")\n",
    "\n",
    "for key, value in model.predict(\n",
    "    prompt, \n",
    "    sc_metadata=sc_metadata, \n",
    "    do_sample=True, \n",
    "    top_p=0.95,\n",
    "    top_k=50,\n",
    "    max_new_tokens=256,\n",
    ").items():\n",
    "    if not isinstance(value, str): \n",
    "        value = '\\n'.join(\n",
    "            f\"{gene_vocab[idx]}: {int(value[idx])}\" for idx in np.argsort(-value)[: 20]\n",
    "        )\n",
    "        if value is not None:  \n",
    "            print(f\"{key}: \\n{value}\")"
   ]
  },
  {
   "cell_type": "code",
   "execution_count": 7,
   "metadata": {},
   "outputs": [
    {
     "name": "stderr",
     "output_type": "stream",
     "text": [
     ]
    },
    {
     "name": "stdout",
     "output_type": "stream",
     "text": [
      "cell: \n",
      "B2M: 56\n",
      "MALAT1: 48\n",
      "RPS2: 26\n",
      "RPL10: 25\n",
      "RPL13A: 21\n",
      "RPS18: 19\n",
      "RPL13: 19\n",
      "GNLY: 16\n",
      "RPL11: 14\n",
      "TMSB10: 14\n",
      "HLA-B: 13\n",
      "RPS6: 12\n",
      "NKG7: 12\n",
      "RPL7: 11\n",
      "TMSB4X: 11\n",
      "RPS3: 11\n",
      "ACTB: 10\n",
      "RPL3: 10\n",
      "RPL21: 9\n",
      "RPL18A: 9\n"
     ]
    }
   ],
   "source": [
    "# Load the pre-trained InstructCell-instruct model from HuggingFace\n",
    "model = InstructCell.from_pretrained(\"zjunlp/InstructCell-instruct\") \n",
    "\n",
    "# Load the single-cell data (H5AD format) and gene vocabulary file (numpy format)\n",
    "adata = anndata.read_h5ad(\"./exp_log/demo_data/conditional_pseudo_cell_generation/PBMC68K/rna.h5ad\")\n",
    "gene_vocab = np.load(\"./exp_log/gene_vocab.npy\")\n",
    "adata = unify_gene_features(adata, gene_vocab, force_gene_symbol_uppercase=False)\n",
    "\n",
    "# Select a random single-cell sample and extract its metadata\n",
    "k = np.random.randint(0, len(adata)) \n",
    "sc_metadata = adata[k, :].obs.iloc[0].to_dict()\n",
    "\n",
    "# Define the model prompt\n",
    "prompt = (\n",
    "    \"Hey, can you whip up a single-cell gene profile for the given specs: cell type is CD56+ NK, species is human, tissue is peripheral blood, and sequencing method is 10xGenomics (GemCode Technology Platform)?\"\n",
    ")\n",
    "\n",
    "for key, value in model.predict(\n",
    "    prompt, \n",
    "    sc_metadata=sc_metadata, \n",
    "    do_sample=True, \n",
    "    top_p=0.95,\n",
    "    top_k=50,\n",
    "    max_new_tokens=256,\n",
    ").items():\n",
    "    if not isinstance(value, str): \n",
    "        value = '\\n'.join(\n",
    "            f\"{gene_vocab[idx]}: {int(value[idx])}\" for idx in np.argsort(-value)[: 20]\n",
    "        )\n",
    "        if value is not None:  \n",
    "            print(f\"{key}: \\n{value}\")"
   ]
  },
  {
   "cell_type": "markdown",
   "metadata": {},
   "source": [
    "# Drug sensitivity prediction\n",
    "\n",
    "This example demonstrates the drug sensitivity prediction task using the **InstructCell** model. The goal is to predict how a single cell responds to a specific drug based on its gene expression profile and associated metadata.\n",
    "\n",
    "- **Input Data**: A single-cell dataset in **H5AD format** and a **gene vocabulary file**.\n",
    "- **Metadata**: Metadata such as species, tissue, drug, and sequencing method are dynamically incorporated into the prompt.\n",
    "- **Prompt**: The prompt guides the model to predict the drug sensitivity of a single cell by providing the gene expression profile and metadata.\n",
    "- **Output**: The model predicts the single cell's response to a specific drug.\n",
    "\n",
    "Below is the implementation:"
   ]
  },
  {
   "cell_type": "code",
   "execution_count": 8,
   "metadata": {},
   "outputs": [
    {
     "name": "stdout",
     "output_type": "stream",
     "text": [
      "text: \n",
      "The single cell from mouse shows a Resistant response to BET inhibitor (I-BET-762) in bone marrow based on Cel-Seq2.\n"
     ]
    }
   ],
   "source": [
    "# Load the pre-trained InstructCell-chat model from HuggingFace\n",
    "model = InstructCell.from_pretrained(\"zjunlp/InstructCell-chat\") \n",
    "\n",
    "# Load the single-cell data (H5AD format) and gene vocabulary file (numpy format)\n",
    "adata = anndata.read_h5ad(\"./exp_log/demo_data/drug_sensitivity_prediction/GSE110894/rna.h5ad\")\n",
    "gene_vocab = np.load(\"./exp_log/gene_vocab.npy\")\n",
    "adata = unify_gene_features(adata, gene_vocab, force_gene_symbol_uppercase=False)\n",
    "\n",
    "# Select a random single-cell sample and extract its gene counts and metadata\n",
    "k = np.random.randint(0, len(adata)) \n",
    "gene_counts = adata[k, :].X.toarray()\n",
    "sc_metadata = adata[k, :].obs.iloc[0].to_dict()\n",
    "\n",
    "# Define the model prompt with placeholders for metadata and gene expression profile\n",
    "prompt = (\n",
    "    \"Given {sequencing_method}, can you predict the response of the single cell {input} from {species} when exposed to {drug} in {tissue}?\"\n",
    ")\n",
    "\n",
    "for key, value in model.predict(\n",
    "    prompt, \n",
    "    gene_counts=gene_counts, \n",
    "    sc_metadata=sc_metadata, \n",
    "    do_sample=True, \n",
    "    top_p=0.95,\n",
    "    top_k=50,\n",
    "    max_new_tokens=256,\n",
    ").items():\n",
    "    if value is not None:  \n",
    "        print(f\"{key}: \\n{value}\")"
   ]
  },
  {
   "cell_type": "code",
   "execution_count": 9,
   "metadata": {},
   "outputs": [
    {
     "name": "stdout",
     "output_type": "stream",
     "text": [
      "text: \n",
      "Sensitive\n"
     ]
    }
   ],
   "source": [
    "# Load the pre-trained InstructCell-instruct model from HuggingFace\n",
    "model = InstructCell.from_pretrained(\"zjunlp/InstructCell-instruct\") \n",
    "\n",
    "# Load the single-cell data (H5AD format) and gene vocabulary file (numpy format)\n",
    "adata = anndata.read_h5ad(\"./exp_log/demo_data/drug_sensitivity_prediction/GSE110894/rna.h5ad\")\n",
    "gene_vocab = np.load(\"./exp_log/gene_vocab.npy\")\n",
    "adata = unify_gene_features(adata, gene_vocab, force_gene_symbol_uppercase=False)\n",
    "\n",
    "# Select a random single-cell sample and extract its gene counts and metadata\n",
    "k = np.random.randint(0, len(adata)) \n",
    "gene_counts = adata[k, :].X.toarray()\n",
    "sc_metadata = adata[k, :].obs.iloc[0].to_dict()\n",
    "\n",
    "# Define the model prompt with placeholders for metadata and gene expression profile\n",
    "prompt = (\n",
    "    \"Given {sequencing_method}, can you predict the response of the single cell {input} from {species} when exposed to {drug} in {tissue}?\"\n",
    ")\n",
    "\n",
    "for key, value in model.predict(\n",
    "    prompt, \n",
    "    gene_counts=gene_counts, \n",
    "    sc_metadata=sc_metadata, \n",
    "    do_sample=True, \n",
    "    top_p=0.95,\n",
    "    top_k=50,\n",
    "    max_new_tokens=256,\n",
    ").items():\n",
    "    if value is not None:  \n",
    "        print(f\"{key}: \\n{value}\")"
   ]
  }
 ],
 "metadata": {
  "kernelspec": {
   "display_name": "instructcell",
   "language": "python",
   "name": "python3"
  },
  "language_info": {
   "codemirror_mode": {
    "name": "ipython",
    "version": 3
   },
   "file_extension": ".py",
   "mimetype": "text/x-python",
   "name": "python",
   "nbconvert_exporter": "python",
   "pygments_lexer": "ipython3",
   "version": "3.10.16"
  }
 },
 "nbformat": 4,
 "nbformat_minor": 2
}
