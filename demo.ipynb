{
 "cells": [
  {
   "cell_type": "code",
   "execution_count": 1,
   "metadata": {},
   "outputs": [
    {
     "name": "stderr",
     "output_type": "stream",
     "text": [
      "/data/fangyin/anaconda3/envs/instructcell/lib/python3.10/site-packages/tqdm/auto.py:21: TqdmWarning: IProgress not found. Please update jupyter and ipywidgets. See https://ipywidgets.readthedocs.io/en/stable/user_install.html\n",
      "  from .autonotebook import tqdm as notebook_tqdm\n"
     ]
    }
   ],
   "source": [
    "from mmllm.module import InstructCell\n",
    "import anndata\n",
    "import numpy as np\n",
    "from utils import unify_gene_features"
   ]
  },
  {
   "cell_type": "markdown",
   "metadata": {},
   "source": [
    "# Cell type annotation\n",
    "\n",
    "This example demonstrates the cell type annotation task using the **InstructCell** model. The objective is to annotate a single cell based on its gene expression profile and metadata, such as species, tissue, and sequencing method.\n",
    "\n",
    "- **Input Data**: A single-cell dataset in **H5AD format** and a **gene vocabulary file**.\n",
    "- **Metadata**: Metadata from the dataset (e.g., species, tissue, sequencing method) is extracted for annotation.\n",
    "- **Prompt**: The prompt dynamically integrates metadata and the gene expression profile to guide the model.\n",
    "- **Output**: The model predicts annotations for the single cell.\n",
    "\n",
    "Below is the implementation:"
   ]
  },
  {
   "cell_type": "code",
   "execution_count": 2,
   "metadata": {},
   "outputs": [
    {
     "name": "stdout",
     "output_type": "stream",
     "text": [
      "text: \n",
      "The cell you provided has been annotated as T Cell based on the provided sequencing method, species, and tissue origin.\n"
     ]
    }
   ],
   "source": [
    "# Load the pre-trained InstructCell-chat model from HuggingFace\n",
    "model = InstructCell.from_pretrained(\"/data2/fangyin/model/InstructCell-chat\") \n",
    "\n",
    "# Load the single-cell data (H5AD format) and gene vocabulary file (numpy format)\n",
    "adata = anndata.read_h5ad(\"./exp_log/demo_data/cell_type_annotation/He-2020-Liver/rna.h5ad\")\n",
    "gene_vocab = np.load(\"./exp_log/gene_vocab.npy\")\n",
    "adata = unify_gene_features(adata, gene_vocab, force_gene_symbol_uppercase=False)\n",
    "\n",
    "# Select a random single-cell sample and extract its gene counts and metadata\n",
    "k = np.random.randint(0, len(adata)) \n",
    "gene_counts = adata[k, :].X.toarray()\n",
    "sc_metadata = adata[k, :].obs.iloc[0].to_dict()\n",
    "\n",
    "# Define the model prompt with placeholders for metadata and gene expression profile\n",
    "prompt = (\n",
    "    \"Can you help me annotate this single cell from a {species}?  It was sequenced using {sequencing_method} and is derived from {tissue}. The gene expression profile is {input}. Thanks!\"\n",
    ")\n",
    "\n",
    "# Use the model to generate predictions\n",
    "for key, value in model.predict(\n",
    "    prompt, \n",
    "    gene_counts=gene_counts, \n",
    "    sc_metadata=sc_metadata, \n",
    "    do_sample=True, \n",
    "    top_p=0.95,\n",
    "    top_k=50,\n",
    "    max_new_tokens=256,\n",
    ").items():\n",
    "    if value is not None:  \n",
    "        print(f\"{key}: \\n{value}\")"
   ]
  },
  {
   "cell_type": "code",
   "execution_count": 3,
   "metadata": {},
   "outputs": [
    {
     "name": "stdout",
     "output_type": "stream",
     "text": [
      "text: \n",
      "T Cell\n"
     ]
    }
   ],
   "source": [
    "# Load the pre-trained InstructCell-instruct model from HuggingFace\n",
    "model = InstructCell.from_pretrained(\"/data2/fangyin/model/InstructCell-instruct\") \n",
    "\n",
    "# Load the single-cell data (H5AD format) and gene vocabulary file (numpy format)\n",
    "adata = anndata.read_h5ad(\"./exp_log/demo_data/cell_type_annotation/He-2020-Liver/rna.h5ad\")\n",
    "gene_vocab = np.load(\"./exp_log/gene_vocab.npy\")\n",
    "adata = unify_gene_features(adata, gene_vocab, force_gene_symbol_uppercase=False)\n",
    "\n",
    "# Select a random single-cell sample and extract its gene counts and metadata\n",
    "k = np.random.randint(0, len(adata)) \n",
    "gene_counts = adata[k, :].X.toarray()\n",
    "sc_metadata = adata[k, :].obs.iloc[0].to_dict()\n",
    "\n",
    "# Define the model prompt with placeholders for metadata and gene expression profile\n",
    "prompt = (\n",
    "    \"Can you help me annotate this single cell from a {species}? It was sequenced using {sequencing_method} and is derived from {tissue}. The gene expression profile is {input}. Thanks!\"\n",
    ")\n",
    "\n",
    "# Use the model to generate predictions\n",
    "for key, value in model.predict(\n",
    "    prompt, \n",
    "    gene_counts=gene_counts, \n",
    "    sc_metadata=sc_metadata, \n",
    "    do_sample=True, \n",
    "    top_p=0.95,\n",
    "    top_k=50,\n",
    "    max_new_tokens=256,\n",
    ").items():\n",
    "    if value is not None:  \n",
    "        print(f\"{key}: \\n{value}\")"
   ]
  },
  {
   "cell_type": "markdown",
   "metadata": {},
   "source": [
    "# Conditional pseudo-cell generation\n",
    "\n",
    "This example demonstrates the conditional pseudo-cell generation task using the **InstructCell** model. The goal is to generate a synthetic gene expression profile based on provided metadata, such as cell type, species, tissue, and sequencing method.\n",
    "\n",
    "- **Input Data**: A single-cell dataset in **H5AD format** and a **gene vocabulary file**.\n",
    "- **Metadata**: Metadata from the dataset (e.g., cell type, species, tissue, sequencing method) is used to define the prompt.\n",
    "- **Prompt**: The prompt dynamically incorporates metadata to guide the model in generating a conditional pseudo-cell profile.\n",
    "- **Output**: The generated gene profile is ranked and displayed, highlighting the top 20 genes with the highest expression levels.\n",
    "\n",
    "Below is the implementation:"
   ]
  },
  {
   "cell_type": "code",
   "execution_count": 4,
   "metadata": {},
   "outputs": [
    {
     "name": "stderr",
     "output_type": "stream",
     "text": [
      "/data/fangyin/anaconda3/envs/instructcell/lib/python3.10/site-packages/anndata/_core/anndata.py:1899: UserWarning: Variable names are not unique. To make them unique, call `.var_names_make_unique`.\n",
      "  utils.warn_names_duplicates(\"var\")\n"
     ]
    },
    {
     "name": "stdout",
     "output_type": "stream",
     "text": [
      "text: \n",
      "Sure, I can help with that. Here is a single-cell gene profile for a human, specifically a CD8+ Cytotoxic T from peripheral blood, using the 10xGenomics (GemCode Technology Platform) method:\n",
      "cell: \n",
      "MALAT1: 146\n",
      "RPL13A: 30\n",
      "CCL5: 28\n",
      "RPS2: 26\n",
      "RPL10: 25\n",
      "RPS6: 24\n",
      "RPL3: 23\n",
      "RPL19: 21\n",
      "B2M: 21\n",
      "RPS3: 20\n",
      "RPS4X: 20\n",
      "RPL13: 19\n",
      "HLA-A: 19\n",
      "RPS3A: 19\n",
      "RPS9: 18\n",
      "RPS19: 17\n",
      "RPS27A: 17\n",
      "RPL14: 15\n",
      "RPLP1: 15\n",
      "ACTB: 14\n"
     ]
    }
   ],
   "source": [
    "# Load the pre-trained InstructCell model from HuggingFace\n",
    "model = InstructCell.from_pretrained(\"/data2/fangyin/model/InstructCell-chat\") \n",
    "\n",
    "# Load the single-cell data (H5AD format) and gene vocabulary file (numpy format)\n",
    "adata = anndata.read_h5ad(\"./exp_log/demo_data/conditional_pseudo_cell_generation/PBMC68K/rna.h5ad\")\n",
    "gene_vocab = np.load(\"./exp_log/gene_vocab.npy\")\n",
    "adata = unify_gene_features(adata, gene_vocab, force_gene_symbol_uppercase=False)\n",
    "\n",
    "# Select a random single-cell sample and extract its metadata\n",
    "k = np.random.randint(0, len(adata)) \n",
    "sc_metadata = adata[k, :].obs.iloc[0].to_dict()\n",
    "\n",
    "# Define the model prompt with placeholders for metadata\n",
    "prompt = (\n",
    "    \"Hi, I lack the expertise to generate the profiles myself. Could you please generate a single-cell gene profile for a {species}, specifically a {cell_type} from {tissue}, using the {sequencing_method} method?\"\n",
    ")\n",
    "\n",
    "\n",
    "for key, value in model.predict(\n",
    "    prompt, \n",
    "    sc_metadata=sc_metadata, \n",
    "    do_sample=True, \n",
    "    top_p=0.95,\n",
    "    top_k=50,\n",
    "    max_new_tokens=256,\n",
    ").items():\n",
    "    if not isinstance(value, str): \n",
    "        value = '\\n'.join(\n",
    "            f\"{gene_vocab[idx]}: {int(value[idx])}\" for idx in np.argsort(-value)[: 20]\n",
    "        )\n",
    "    if value is not None:  \n",
    "        print(f\"{key}: \\n{value}\")"
   ]
  },
  {
   "cell_type": "code",
   "execution_count": 5,
   "metadata": {},
   "outputs": [
    {
     "name": "stderr",
     "output_type": "stream",
     "text": [
      "/data/fangyin/anaconda3/envs/instructcell/lib/python3.10/site-packages/anndata/_core/anndata.py:1899: UserWarning: Variable names are not unique. To make them unique, call `.var_names_make_unique`.\n",
      "  utils.warn_names_duplicates(\"var\")\n"
     ]
    },
    {
     "name": "stdout",
     "output_type": "stream",
     "text": [
      "cell: \n",
      "FTL: 53\n",
      "RPL13: 39\n",
      "S100A9: 33\n",
      "RPS2: 29\n",
      "RPL11: 28\n",
      "RPLP1: 25\n",
      "RPS19: 22\n",
      "RPL10: 22\n",
      "TMSB4X: 22\n",
      "RPL13A: 22\n",
      "HLA-B: 16\n",
      "RPL19: 15\n",
      "FTH1: 13\n",
      "RPS9: 12\n",
      "RPL26: 11\n",
      "RPL12: 11\n",
      "RPS3: 11\n",
      "RPS12: 11\n",
      "TMSB10: 10\n",
      "RPS6: 10\n"
     ]
    }
   ],
   "source": [
    "# Load the pre-trained InstructCell-instruct model from HuggingFace\n",
    "model = InstructCell.from_pretrained(\"/data2/fangyin/model/InstructCell-instruct\") \n",
    "\n",
    "# Load the single-cell data (H5AD format) and gene vocabulary file (numpy format)\n",
    "adata = anndata.read_h5ad(\"./exp_log/demo_data/conditional_pseudo_cell_generation/PBMC68K/rna.h5ad\")\n",
    "gene_vocab = np.load(\"./exp_log/gene_vocab.npy\")\n",
    "adata = unify_gene_features(adata, gene_vocab, force_gene_symbol_uppercase=False)\n",
    "\n",
    "# Select a random single-cell sample and extract its metadata\n",
    "k = np.random.randint(0, len(adata)) \n",
    "sc_metadata = adata[k, :].obs.iloc[0].to_dict()\n",
    "\n",
    "# Define the model prompt with placeholders for metadata\n",
    "prompt = (\n",
    "    \"Hi, I lack the expertise to generate the profiles myself. Could you please generate a single-cell gene profile for a {species}, specifically a {cell_type} from {tissue}, using the {sequencing_method} method?\"\n",
    ")\n",
    "\n",
    "\n",
    "for key, value in model.predict(\n",
    "    prompt, \n",
    "    sc_metadata=sc_metadata, \n",
    "    do_sample=True, \n",
    "    top_p=0.95,\n",
    "    top_k=50,\n",
    "    max_new_tokens=256,\n",
    ").items():\n",
    "    if not isinstance(value, str): \n",
    "        value = '\\n'.join(\n",
    "            f\"{gene_vocab[idx]}: {int(value[idx])}\" for idx in np.argsort(-value)[: 20]\n",
    "        )\n",
    "        if value is not None:  \n",
    "            print(f\"{key}: \\n{value}\")"
   ]
  },
  {
   "cell_type": "markdown",
   "metadata": {},
   "source": [
    "We also support directly specifying and inputting the exact values for each placeholder in the prompt, as shown in this example："
   ]
  },
  {
   "cell_type": "code",
   "execution_count": 6,
   "metadata": {},
   "outputs": [
    {
     "name": "stderr",
     "output_type": "stream",
     "text": [
      "/data/fangyin/anaconda3/envs/instructcell/lib/python3.10/site-packages/anndata/_core/anndata.py:1899: UserWarning: Variable names are not unique. To make them unique, call `.var_names_make_unique`.\n",
      "  utils.warn_names_duplicates(\"var\")\n"
     ]
    },
    {
     "name": "stdout",
     "output_type": "stream",
     "text": [
      "cell: \n",
      "TMSB4X: 39\n",
      "MALAT1: 35\n",
      "B2M: 35\n",
      "ACTG1: 20\n",
      "RPL13A: 20\n",
      "RPS2: 20\n",
      "RPL3: 18\n",
      "NKG7: 16\n",
      "MT-CO1: 16\n",
      "HLA-B: 15\n",
      "RPS19: 14\n",
      "HLA-A: 13\n",
      "RPS6: 13\n",
      "RPL10: 12\n",
      "RPL15: 11\n",
      "RPL19: 11\n",
      "CD7: 11\n",
      "RPL18: 10\n",
      "RPL13: 10\n",
      "HLA-C: 10\n"
     ]
    }
   ],
   "source": [
    "# Load the pre-trained InstructCell-chat model from HuggingFace\n",
    "model = InstructCell.from_pretrained(\"/data2/fangyin/model/InstructCell-chat\") \n",
    "\n",
    "# Load the single-cell data (H5AD format) and gene vocabulary file (numpy format)\n",
    "adata = anndata.read_h5ad(\"./exp_log/demo_data/conditional_pseudo_cell_generation/PBMC68K/rna.h5ad\")\n",
    "gene_vocab = np.load(\"./exp_log/gene_vocab.npy\")\n",
    "adata = unify_gene_features(adata, gene_vocab, force_gene_symbol_uppercase=False)\n",
    "\n",
    "# Select a random single-cell sample and extract its metadata\n",
    "k = np.random.randint(0, len(adata)) \n",
    "sc_metadata = adata[k, :].obs.iloc[0].to_dict()\n",
    "\n",
    "# Define the model prompt\n",
    "prompt = (\n",
    "    \"Hi, I lack the expertise to generate the profiles myself. Could you please generate a single-cell gene profile for a human, specifically a CD56+ NK from peripheral blood, using the 10xGenomics (GemCode Technology Platform) method?\"\n",
    ")\n",
    "\n",
    "for key, value in model.predict(\n",
    "    prompt, \n",
    "    sc_metadata=sc_metadata, \n",
    "    do_sample=True, \n",
    "    top_p=0.95,\n",
    "    top_k=50,\n",
    "    max_new_tokens=256,\n",
    ").items():\n",
    "    if not isinstance(value, str): \n",
    "        value = '\\n'.join(\n",
    "            f\"{gene_vocab[idx]}: {int(value[idx])}\" for idx in np.argsort(-value)[: 20]\n",
    "        )\n",
    "        if value is not None:  \n",
    "            print(f\"{key}: \\n{value}\")"
   ]
  },
  {
   "cell_type": "code",
   "execution_count": 7,
   "metadata": {},
   "outputs": [
    {
     "name": "stderr",
     "output_type": "stream",
     "text": [
      "/data/fangyin/anaconda3/envs/instructcell/lib/python3.10/site-packages/anndata/_core/anndata.py:1899: UserWarning: Variable names are not unique. To make them unique, call `.var_names_make_unique`.\n",
      "  utils.warn_names_duplicates(\"var\")\n"
     ]
    },
    {
     "name": "stdout",
     "output_type": "stream",
     "text": [
      "cell: \n",
      "B2M: 23\n",
      "MALAT1: 17\n",
      "GNLY: 17\n",
      "RPL13A: 12\n",
      "RPL13: 11\n",
      "RPS3A: 10\n",
      "TMSB4X: 10\n",
      "RPS4X: 10\n",
      "ACTB: 10\n",
      "RPL14: 9\n",
      "RPS5: 8\n",
      "RPL18A: 8\n",
      "NKG7: 8\n",
      "RPL11: 8\n",
      "MT-CO1: 7\n",
      "TMSB10: 7\n",
      "RPS6: 7\n",
      "RPS3: 7\n",
      "RPL19: 6\n",
      "RPS19: 6\n"
     ]
    }
   ],
   "source": [
    "# Load the pre-trained InstructCell-instruct model from HuggingFace\n",
    "model = InstructCell.from_pretrained(\"/data2/fangyin/model/InstructCell-instruct\") \n",
    "\n",
    "# Load the single-cell data (H5AD format) and gene vocabulary file (numpy format)\n",
    "adata = anndata.read_h5ad(\"./exp_log/demo_data/conditional_pseudo_cell_generation/PBMC68K/rna.h5ad\")\n",
    "gene_vocab = np.load(\"./exp_log/gene_vocab.npy\")\n",
    "adata = unify_gene_features(adata, gene_vocab, force_gene_symbol_uppercase=False)\n",
    "\n",
    "# Select a random single-cell sample and extract its metadata\n",
    "k = np.random.randint(0, len(adata)) \n",
    "sc_metadata = adata[k, :].obs.iloc[0].to_dict()\n",
    "\n",
    "# Define the model prompt\n",
    "prompt = (\n",
    "    \"Hi, I lack the expertise to generate the profiles myself. Could you please generate a single-cell gene profile for a human, specifically a CD56+ NK from peripheral blood, using the 10xGenomics (GemCode Technology Platform) method?\"\n",
    ")\n",
    "\n",
    "for key, value in model.predict(\n",
    "    prompt, \n",
    "    sc_metadata=sc_metadata, \n",
    "    do_sample=True, \n",
    "    top_p=0.95,\n",
    "    top_k=50,\n",
    "    max_new_tokens=256,\n",
    ").items():\n",
    "    if not isinstance(value, str): \n",
    "        value = '\\n'.join(\n",
    "            f\"{gene_vocab[idx]}: {int(value[idx])}\" for idx in np.argsort(-value)[: 20]\n",
    "        )\n",
    "        if value is not None:  \n",
    "            print(f\"{key}: \\n{value}\")"
   ]
  },
  {
   "cell_type": "markdown",
   "metadata": {},
   "source": [
    "# Drug sensitivity prediction\n",
    "\n",
    "This example demonstrates the drug sensitivity prediction task using the **InstructCell** model. The goal is to predict how a single cell responds to a specific drug based on its gene expression profile and associated metadata.\n",
    "\n",
    "- **Input Data**: A single-cell dataset in **H5AD format** and a **gene vocabulary file**.\n",
    "- **Metadata**: Metadata such as species, tissue, drug, and sequencing method are dynamically incorporated into the prompt.\n",
    "- **Prompt**: The prompt guides the model to predict the drug sensitivity of a single cell by providing the gene expression profile and metadata.\n",
    "- **Output**: The model predicts the single cell's response to a specific drug.\n",
    "\n",
    "Below is the implementation:"
   ]
  },
  {
   "cell_type": "code",
   "execution_count": 8,
   "metadata": {},
   "outputs": [
    {
     "name": "stdout",
     "output_type": "stream",
     "text": [
      "text: \n",
      "Using Cel-Seq2 on single cells from mouse in bone marrow, the predicted response to BET inhibitor (I-BET-762) is Sensitive.\n"
     ]
    }
   ],
   "source": [
    "# Load the pre-trained InstructCell-chat model from HuggingFace\n",
    "model = InstructCell.from_pretrained(\"/data2/fangyin/model/InstructCell-chat\") \n",
    "\n",
    "# Load the single-cell data (H5AD format) and gene vocabulary file (numpy format)\n",
    "adata = anndata.read_h5ad(\"./exp_log/demo_data/drug_sensitivity_prediction/GSE110894/rna.h5ad\")\n",
    "gene_vocab = np.load(\"./exp_log/gene_vocab.npy\")\n",
    "adata = unify_gene_features(adata, gene_vocab, force_gene_symbol_uppercase=False)\n",
    "\n",
    "# Select a random single-cell sample and extract its gene counts and metadata\n",
    "k = np.random.randint(0, len(adata)) \n",
    "gene_counts = adata[k, :].X.toarray()\n",
    "sc_metadata = adata[k, :].obs.iloc[0].to_dict()\n",
    "\n",
    "# Define the model prompt with placeholders for metadata and gene expression profile\n",
    "prompt = (\n",
    "    \"Given {sequencing_method}, can you predict the response of the single cell {input} from {species} when exposed to {drug} in {tissue}?\"\n",
    ")\n",
    "\n",
    "for key, value in model.predict(\n",
    "    prompt, \n",
    "    gene_counts=gene_counts, \n",
    "    sc_metadata=sc_metadata, \n",
    "    do_sample=True, \n",
    "    top_p=0.95,\n",
    "    top_k=50,\n",
    "    max_new_tokens=256,\n",
    ").items():\n",
    "    if value is not None:  \n",
    "        print(f\"{key}: \\n{value}\")"
   ]
  },
  {
   "cell_type": "code",
   "execution_count": 9,
   "metadata": {},
   "outputs": [
    {
     "name": "stdout",
     "output_type": "stream",
     "text": [
      "text: \n",
      "Sensitive\n"
     ]
    }
   ],
   "source": [
    "# Load the pre-trained InstructCell-instruct model from HuggingFace\n",
    "model = InstructCell.from_pretrained(\"/data2/fangyin/model/InstructCell-instruct\") \n",
    "\n",
    "# Load the single-cell data (H5AD format) and gene vocabulary file (numpy format)\n",
    "adata = anndata.read_h5ad(\"./exp_log/demo_data/drug_sensitivity_prediction/GSE110894/rna.h5ad\")\n",
    "gene_vocab = np.load(\"./exp_log/gene_vocab.npy\")\n",
    "adata = unify_gene_features(adata, gene_vocab, force_gene_symbol_uppercase=False)\n",
    "\n",
    "# Select a random single-cell sample and extract its gene counts and metadata\n",
    "k = np.random.randint(0, len(adata)) \n",
    "gene_counts = adata[k, :].X.toarray()\n",
    "sc_metadata = adata[k, :].obs.iloc[0].to_dict()\n",
    "\n",
    "# Define the model prompt with placeholders for metadata and gene expression profile\n",
    "prompt = (\n",
    "    \"Given {sequencing_method}, can you predict the response of the single cell {input} from {species} when exposed to {drug} in {tissue}?\"\n",
    ")\n",
    "\n",
    "for key, value in model.predict(\n",
    "    prompt, \n",
    "    gene_counts=gene_counts, \n",
    "    sc_metadata=sc_metadata, \n",
    "    do_sample=True, \n",
    "    top_p=0.95,\n",
    "    top_k=50,\n",
    "    max_new_tokens=256,\n",
    ").items():\n",
    "    if value is not None:  \n",
    "        print(f\"{key}: \\n{value}\")"
   ]
  }
 ],
 "metadata": {
  "kernelspec": {
   "display_name": "instructcell",
   "language": "python",
   "name": "python3"
  },
  "language_info": {
   "codemirror_mode": {
    "name": "ipython",
    "version": 3
   },
   "file_extension": ".py",
   "mimetype": "text/x-python",
   "name": "python",
   "nbconvert_exporter": "python",
   "pygments_lexer": "ipython3",
   "version": "3.10.16"
  }
 },
 "nbformat": 4,
 "nbformat_minor": 2
}
