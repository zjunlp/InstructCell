{
 "cells": [
  {
   "cell_type": "code",
   "execution_count": null,
   "metadata": {},
   "outputs": [
    {
     "name": "stderr",
     "output_type": "stream",
     "text": [
      "/data/fangyin/anaconda3/envs/instructcell/lib/python3.10/site-packages/tqdm/auto.py:21: TqdmWarning: IProgress not found. Please update jupyter and ipywidgets. See https://ipywidgets.readthedocs.io/en/stable/user_install.html\n",
      "  from .autonotebook import tqdm as notebook_tqdm\n"
     ]
    }
   ],
   "source": [
    "from mmllm.module import InstructCell\n",
    "import anndata\n",
    "import numpy as np\n",
    "from utils import unify_gene_features"
   ]
  },
  {
   "cell_type": "markdown",
   "metadata": {},
   "source": [
    "# Cell type annotation\n",
    "\n",
    "This example demonstrates the cell type annotation task using the **InstructCell** model. The objective is to annotate a single cell based on its gene expression profile and metadata, such as species, tissue, and sequencing method.\n",
    "\n",
    "- **Input Data**: A single-cell dataset in **H5AD format** and a **gene vocabulary file**.\n",
    "- **Metadata**: Metadata from the dataset (e.g., species, tissue, sequencing method) is extracted for annotation.\n",
    "- **Prompt**: The prompt dynamically integrates metadata and the gene expression profile to guide the model.\n",
    "- **Output**: The model predicts annotations for the single cell.\n",
    "\n",
    "Below is the implementation:"
   ]
  },
  {
   "cell_type": "code",
   "execution_count": null,
   "metadata": {},
   "outputs": [
    {
     "name": "stdout",
     "output_type": "stream",
     "text": [
      "text: The cell you provided has been annotated as Monocyte based on the provided sequencing method, species, and tissue origin.\n"
     ]
    }
   ],
   "source": [
    "# Load the pre-trained InstructCell-chat model from HuggingFace\n",
    "model = InstructCell.from_pretrained(\"zjunlp/InstructCell-chat\") \n",
    "\n",
    "# Load the single-cell data (H5AD format) and gene vocabulary file (numpy format)\n",
    "adata = anndata.read_h5ad(\"./exp_log/demo_data/cell_type_annotation/He-2020-Liver/rna.h5ad\")\n",
    "gene_vocab = np.load(\"./exp_log/gene_vocab.npy\")\n",
    "adata = unify_gene_features(adata, gene_vocab, force_gene_symbol_uppercase=False)\n",
    "\n",
    "# Select a random single-cell sample and extract its gene counts and metadata\n",
    "k = np.random.randint(0, len(adata)) \n",
    "gene_counts = adata[k, :].X.toarray()\n",
    "sc_metadata = adata[k, :].obs.iloc[0].to_dict()\n",
    "\n",
    "# Define the model prompt with placeholders for metadata and gene expression profile\n",
    "prompt = (\n",
    "    \"Can you help me annotate this single cell from a {species}? \"\n",
    "    \"It was sequenced using {sequencing_method} and is derived from {tissue}. \"\n",
    "    \"The gene expression profile is {input}. Thanks!\"\n",
    ")\n",
    "\n",
    "# Use the model to generate predictions\n",
    "for key, value in model.predict(\n",
    "    prompt, \n",
    "    gene_counts=gene_counts, \n",
    "    sc_metadata=sc_metadata, \n",
    "    do_sample=True, \n",
    "    top_p=0.95,\n",
    "    top_k=50,\n",
    "    max_new_tokens=256,\n",
    ").items():\n",
    "    if value is not None:  \n",
    "        print(f\"{key}: {value}\")"
   ]
  },
  {
   "cell_type": "code",
   "execution_count": null,
   "metadata": {},
   "outputs": [
    {
     "name": "stdout",
     "output_type": "stream",
     "text": [
      "text: Macrophage\n"
     ]
    }
   ],
   "source": [
    "# Load the pre-trained InstructCell-instruct model from HuggingFace\n",
    "model = InstructCell.from_pretrained(\"zjunlp/InstructCell-instruct\") \n",
    "\n",
    "# Load the single-cell data (H5AD format) and gene vocabulary file (numpy format)\n",
    "adata = anndata.read_h5ad(\"./exp_log/demo_data/cell_type_annotation/He-2020-Liver/rna.h5ad\")\n",
    "gene_vocab = np.load(\"./exp_log/gene_vocab.npy\")\n",
    "adata = unify_gene_features(adata, gene_vocab, force_gene_symbol_uppercase=False)\n",
    "\n",
    "# Select a random single-cell sample and extract its gene counts and metadata\n",
    "k = np.random.randint(0, len(adata)) \n",
    "gene_counts = adata[k, :].X.toarray()\n",
    "sc_metadata = adata[k, :].obs.iloc[0].to_dict()\n",
    "\n",
    "# Define the model prompt with placeholders for metadata and gene expression profile\n",
    "prompt = (\n",
    "    \"Can you help me annotate this single cell from a {species}? \"\n",
    "    \"It was sequenced using {sequencing_method} and is derived from {tissue}. \"\n",
    "    \"The gene expression profile is {input}. Thanks!\"\n",
    ")\n",
    "\n",
    "# Use the model to generate predictions\n",
    "for key, value in model.predict(\n",
    "    prompt, \n",
    "    gene_counts=gene_counts, \n",
    "    sc_metadata=sc_metadata, \n",
    "    do_sample=True, \n",
    "    top_p=0.95,\n",
    "    top_k=50,\n",
    "    max_new_tokens=256,\n",
    ").items():\n",
    "    if value is not None:  \n",
    "        print(f\"{key}: {value}\")"
   ]
  },
  {
   "cell_type": "markdown",
   "metadata": {},
   "source": [
    "# Conditional pseudo-cell generation\n",
    "\n",
    "This example demonstrates the conditional pseudo-Cell generation task using the **InstructCell** model. The goal is to generate a synthetic gene expression profile based on provided metadata, such as cell type, species, tissue, and sequencing method.\n",
    "\n",
    "- **Input Data**: A single-cell dataset in **H5AD format** and a **gene vocabulary file**.\n",
    "- **Metadata**: Metadata from the dataset (e.g., cell type, species, tissue, sequencing method) is used to define the prompt.\n",
    "- **Prompt**: The prompt dynamically incorporates metadata to guide the model in generating a conditional pseudo-cell profile.\n",
    "- **Output**: The generated gene profile is ranked and displayed, highlighting the top 20 genes with the highest expression levels.\n",
    "\n",
    "Below is the implementation:"
   ]
  },
  {
   "cell_type": "code",
   "execution_count": 4,
   "metadata": {},
   "outputs": [
    {
     "name": "stdout",
     "output_type": "stream",
     "text": [
      "text:\n",
      "Sure, here is a single-cell gene profile based on your specifications: - Cell Type: CD8+/CD45RA+ Naive Cytotoxic - Species: human - Tissue: peripheral blood - Sequencing Method: 10xGenomics (GemCode Technology Platform) The generated profile is as follows:\n",
      "cell:\n",
      "RPL10: 57\n",
      "MALAT1: 56\n",
      "RPS6: 48\n",
      "RPL11: 45\n",
      "RPS18: 39\n",
      "RPS2: 37\n",
      "RPL13A: 32\n",
      "RPL13: 31\n",
      "RPL3: 31\n",
      "RPS4X: 30\n",
      "RPL7: 28\n",
      "RPLP1: 26\n",
      "RPS19: 25\n",
      "RPL26: 25\n",
      "RPS27: 24\n",
      "TMSB4X: 24\n",
      "RPS12: 23\n",
      "RPL12: 22\n",
      "B2M: 21\n",
      "RPL21: 21\n"
     ]
    }
   ],
   "source": [
    "# Load the pre-trained InstructCell model from HuggingFace\n",
    "model = InstructCell.from_pretrained(\"zjunlp/InstructCell-chat\") \n",
    "\n",
    "# Load the single-cell data (H5AD format) and gene vocabulary file (numpy format)\n",
    "adata = anndata.read_h5ad(\"./exp_log/demo_data/conditional_pseudo_cell_generation/PBMC68K/rna.h5ad\")\n",
    "gene_vocab = np.load(\"./exp_log/gene_vocab.npy\")\n",
    "adata = unify_gene_features(adata, gene_vocab, force_gene_symbol_uppercase=False)\n",
    "\n",
    "# Select a random single-cell sample and extract its gene counts and metadata\n",
    "k = np.random.randint(0, len(adata)) \n",
    "sc_metadata = adata[k, :].obs.iloc[0].to_dict()\n",
    "\n",
    "# Define the model prompt with placeholders for metadata\n",
    "prompt = (\n",
    "    \"Hey, can you whip up a single-cell gene profile for the given specs: \"\n",
    "    \"cell type is {cell_type}, species is {species}, tissue is {tissue}, and sequencing method is {sequencing_method}?\"\n",
    ")\n",
    "\n",
    "\n",
    "for key, value in model.predict(\n",
    "    prompt, \n",
    "    # gene_counts=gene_counts, \n",
    "    sc_metadata=sc_metadata, \n",
    "    do_sample=True, \n",
    "    top_p=0.95,\n",
    "    top_k=50,\n",
    "    max_new_tokens=256,\n",
    ").items():\n",
    "    if not isinstance(value, str): \n",
    "        value = '\\n'.join(\n",
    "            f\"{gene_vocab[idx]}: {int(value[idx])}\" for idx in np.argsort(-value)[: 20]\n",
    "        )\n",
    "    print(f\"{key}:\\n{value}\")"
   ]
  },
  {
   "cell_type": "code",
   "execution_count": null,
   "metadata": {},
   "outputs": [
    {
     "name": "stdout",
     "output_type": "stream",
     "text": [
      "text:\n",
      "\n",
      "cell:\n",
      "RPL13: 44\n",
      "MALAT1: 34\n",
      "RPL10: 27\n",
      "RPS2: 24\n",
      "RPS6: 23\n",
      "RPL18A: 21\n",
      "TMSB4X: 17\n",
      "RPL13A: 15\n",
      "RPS3A: 15\n",
      "RPL34: 14\n",
      "RPS27A: 14\n",
      "RPS19: 13\n",
      "RPL19: 12\n",
      "RPL3: 12\n",
      "RPS25: 10\n",
      "RPS9: 10\n",
      "RPL21: 10\n",
      "RPL7A: 10\n",
      "RPS5: 9\n",
      "RPL15: 9\n"
     ]
    }
   ],
   "source": [
    "# Load the pre-trained InstructCell-instruct model from HuggingFace\n",
    "model = InstructCell.from_pretrained(\"zjunlp/InstructCell-instruct\") \n",
    "\n",
    "# Load the single-cell data (H5AD format) and gene vocabulary file (numpy format)\n",
    "adata = anndata.read_h5ad(\"./exp_log/demo_data/conditional_pseudo_cell_generation/PBMC68K/rna.h5ad\")\n",
    "gene_vocab = np.load(\"./exp_log/gene_vocab.npy\")\n",
    "adata = unify_gene_features(adata, gene_vocab, force_gene_symbol_uppercase=False)\n",
    "\n",
    "# Select a random single-cell sample and extract its gene counts and metadata\n",
    "k = np.random.randint(0, len(adata)) \n",
    "sc_metadata = adata[k, :].obs.iloc[0].to_dict()\n",
    "\n",
    "# Define the model prompt with placeholders for metadata\n",
    "prompt = (\n",
    "    \"Hey, can you whip up a single-cell gene profile for the given specs: \"\n",
    "    \"cell type is {cell_type}, species is {species}, tissue is {tissue}, and sequencing method is {sequencing_method}? \"\n",
    ")\n",
    "\n",
    "\n",
    "for key, value in model.predict(\n",
    "    prompt, \n",
    "    # gene_counts=gene_counts, \n",
    "    sc_metadata=sc_metadata, \n",
    "    do_sample=True, \n",
    "    top_p=0.95,\n",
    "    top_k=50,\n",
    "    max_new_tokens=256,\n",
    ").items():\n",
    "    if not isinstance(value, str): \n",
    "        value = '\\n'.join(\n",
    "            f\"{gene_vocab[idx]}: {int(value[idx])}\" for idx in np.argsort(-value)[: 20]\n",
    "        )\n",
    "    print(f\"{key}:\\n{value}\")"
   ]
  },
  {
   "cell_type": "markdown",
   "metadata": {},
   "source": [
    "We also support directly specifying and inputting the exact values for each placeholder in the prompt, as shown in this example："
   ]
  },
  {
   "cell_type": "code",
   "execution_count": null,
   "metadata": {},
   "outputs": [
    {
     "name": "stdout",
     "output_type": "stream",
     "text": [
      "text:\n",
      "Sure, here is a single-cell gene profile based on your specifications: - Cell Type: CD56+ NK - Species: human - Tissue: peripheral blood - Sequencing Method: 10xGenomics (GemCode Technology Platform) The gene expression data aligns with the characteristics of these specific cells.\n",
      "cell:\n",
      "MALAT1: 47\n",
      "B2M: 35\n",
      "GNLY: 33\n",
      "HLA-A: 25\n",
      "NKG7: 23\n",
      "RPL13: 22\n",
      "TMSB4X: 18\n",
      "RPL13A: 17\n",
      "RPS3: 16\n",
      "RPS18: 16\n",
      "S100A4: 16\n",
      "RPS6: 15\n",
      "MT-CO1: 15\n",
      "RPL10: 14\n",
      "RPLP1: 13\n",
      "RPS2: 13\n",
      "HLA-B: 12\n",
      "RPL15: 12\n",
      "FTL: 11\n",
      "GZMB: 11\n"
     ]
    }
   ],
   "source": [
    "# Load the pre-trained InstructCell-chat model from HuggingFace\n",
    "model = InstructCell.from_pretrained(\"zjunlp/InstructCell-chat\") \n",
    "\n",
    "# Load the single-cell data (H5AD format) and gene vocabulary file (numpy format)\n",
    "adata = anndata.read_h5ad(\"./exp_log/demo_data/conditional_pseudo_cell_generation/PBMC68K/rna.h5ad\")\n",
    "gene_vocab = np.load(\"./exp_log/gene_vocab.npy\")\n",
    "adata = unify_gene_features(adata, gene_vocab, force_gene_symbol_uppercase=False)\n",
    "\n",
    "# Select a random single-cell sample and extract its metadata\n",
    "k = np.random.randint(0, len(adata)) \n",
    "sc_metadata = adata[k, :].obs.iloc[0].to_dict()\n",
    "\n",
    "# Define the model prompt\n",
    "prompt = (\n",
    "    \"Hey, can you whip up a single-cell gene profile for the given specs: \"\n",
    "    \"cell type is CD56+ NK, species is human, tissue is peripheral blood, and sequencing method is 10xGenomics (GemCode Technology Platform)? \"\n",
    ")\n",
    "\n",
    "for key, value in model.predict(\n",
    "    prompt, \n",
    "    sc_metadata=sc_metadata, \n",
    "    do_sample=True, \n",
    "    top_p=0.95,\n",
    "    top_k=50,\n",
    "    max_new_tokens=256,\n",
    ").items():\n",
    "    if not isinstance(value, str): \n",
    "        value = '\\n'.join(\n",
    "            f\"{gene_vocab[idx]}: {int(value[idx])}\" for idx in np.argsort(-value)[: 20]\n",
    "        )\n",
    "    print(f\"{key}:\\n{value}\")"
   ]
  },
  {
   "cell_type": "code",
   "execution_count": null,
   "metadata": {},
   "outputs": [
    {
     "name": "stdout",
     "output_type": "stream",
     "text": [
      "text:\n",
      "\n",
      "cell:\n",
      "MALAT1: 58\n",
      "B2M: 52\n",
      "TMSB4X: 32\n",
      "PFN1: 30\n",
      "RPL10: 19\n",
      "ACTG1: 19\n",
      "CCL5: 16\n",
      "HLA-B: 16\n",
      "GZMH: 14\n",
      "ACTB: 14\n",
      "HLA-C: 12\n",
      "RPL3: 12\n",
      "NKG7: 11\n",
      "RPS3: 10\n",
      "HLA-A: 10\n",
      "LGALS1: 9\n",
      "RPS2: 9\n",
      "RPL18: 9\n",
      "RPL13A: 9\n",
      "MT-CO2: 8\n"
     ]
    }
   ],
   "source": [
    "# Load the pre-trained InstructCell-instruct model from HuggingFace\n",
    "model = InstructCell.from_pretrained(\"zjunlp/InstructCell-instruct\") \n",
    "\n",
    "# Load the single-cell data (H5AD format) and gene vocabulary file (numpy format)\n",
    "adata = anndata.read_h5ad(\"./exp_log/demo_data/conditional_pseudo_cell_generation/PBMC68K/rna.h5ad\")\n",
    "gene_vocab = np.load(\"./exp_log/gene_vocab.npy\")\n",
    "adata = unify_gene_features(adata, gene_vocab, force_gene_symbol_uppercase=False)\n",
    "\n",
    "# Select a random single-cell sample and extract its metadata\n",
    "k = np.random.randint(0, len(adata)) \n",
    "sc_metadata = adata[k, :].obs.iloc[0].to_dict()\n",
    "\n",
    "# Define the model prompt\n",
    "prompt = (\n",
    "    \"Hey, can you whip up a single-cell gene profile for the given specs: \"\n",
    "    \"cell type is CD56+ NK, species is human, tissue is peripheral blood, and sequencing method is 10xGenomics (GemCode Technology Platform)? \"\n",
    ")\n",
    "\n",
    "for key, value in model.predict(\n",
    "    prompt, \n",
    "    sc_metadata=sc_metadata, \n",
    "    do_sample=True, \n",
    "    top_p=0.95,\n",
    "    top_k=50,\n",
    "    max_new_tokens=256,\n",
    ").items():\n",
    "    if not isinstance(value, str): \n",
    "        value = '\\n'.join(\n",
    "            f\"{gene_vocab[idx]}: {int(value[idx])}\" for idx in np.argsort(-value)[: 20]\n",
    "        )\n",
    "    print(f\"{key}:\\n{value}\")"
   ]
  },
  {
   "cell_type": "markdown",
   "metadata": {},
   "source": [
    "# Drug sensitivity prediction\n",
    "\n",
    "This example demonstrates the drug sensitivity prediction task using the **InstructCell** model. The goal is to predict how a single cell responds to a specific drug based on its gene expression profile and associated metadata.\n",
    "\n",
    "- **Input Data**: A single-cell dataset in **H5AD format** and a **gene vocabulary file**.\n",
    "- **Metadata**: Metadata such as species, tissue, drug, and sequencing method are dynamically incorporated into the prompt.\n",
    "- **Prompt**: The prompt guides the model to predict drug sensitivity by providing the gene expression profile and metadata.\n",
    "- **Output**: The model predicts the drug response.\n",
    "\n",
    "Below is the implementation:"
   ]
  },
  {
   "cell_type": "code",
   "execution_count": 8,
   "metadata": {},
   "outputs": [
    {
     "name": "stdout",
     "output_type": "stream",
     "text": [
      "text: The single cell from mouse when exposed to BET inhibitor (I-BET-762) in bone marrow is predicted to have Sensitive response to BET inhibitor (I-BET-762).\n"
     ]
    }
   ],
   "source": [
    "# Load the pre-trained InstructCell-chat model from HuggingFace\n",
    "model = InstructCell.from_pretrained(\"zjunlp/InstructCell-chat\") \n",
    "\n",
    "# Load the single-cell data (H5AD format) and gene vocabulary file (numpy format)\n",
    "adata = anndata.read_h5ad(\"./exp_log/demo_data/drug_sensitivity_prediction/GSE110894/rna.h5ad\")\n",
    "gene_vocab = np.load(\"./exp_log/gene_vocab.npy\")\n",
    "adata = unify_gene_features(adata, gene_vocab, force_gene_symbol_uppercase=False)\n",
    "\n",
    "# Select a random single-cell sample and extract its gene counts and metadata\n",
    "k = np.random.randint(0, len(adata)) \n",
    "gene_counts = adata[k, :].X.toarray()\n",
    "sc_metadata = adata[k, :].obs.iloc[0].to_dict()\n",
    "\n",
    "# Define the model prompt with placeholders for metadata and gene expression profile\n",
    "prompt = (\n",
    "    \"Given {sequencing_method}, can you predict the response of the single cell {input} from {species} when exposed to {drug} in {tissue}?\"\n",
    ")\n",
    "\n",
    "for key, value in model.predict(\n",
    "    prompt, \n",
    "    gene_counts=gene_counts, \n",
    "    sc_metadata=sc_metadata, \n",
    "    do_sample=True, \n",
    "    top_p=0.95,\n",
    "    top_k=50,\n",
    "    max_new_tokens=256,\n",
    ").items():\n",
    "    if value is not None:  \n",
    "        print(f\"{key}: {value}\")"
   ]
  },
  {
   "cell_type": "code",
   "execution_count": null,
   "metadata": {},
   "outputs": [
    {
     "name": "stdout",
     "output_type": "stream",
     "text": [
      "text: Sensitive\n"
     ]
    }
   ],
   "source": [
    "# Load the pre-trained InstructCell-instruct model from HuggingFace\n",
    "model = InstructCell.from_pretrained(\"zjunlp/InstructCell-instruct\") \n",
    "\n",
    "# Load the single-cell data (H5AD format) and gene vocabulary file (numpy format)\n",
    "adata = anndata.read_h5ad(\"./exp_log/demo_data/drug_sensitivity_prediction/GSE110894/rna.h5ad\")\n",
    "gene_vocab = np.load(\"./exp_log/gene_vocab.npy\")\n",
    "adata = unify_gene_features(adata, gene_vocab, force_gene_symbol_uppercase=False)\n",
    "\n",
    "# Select a random single-cell sample and extract its gene counts and metadata\n",
    "k = np.random.randint(0, len(adata)) \n",
    "gene_counts = adata[k, :].X.toarray()\n",
    "sc_metadata = adata[k, :].obs.iloc[0].to_dict()\n",
    "\n",
    "# Define the model prompt with placeholders for metadata and gene expression profile\n",
    "prompt = (\n",
    "    \"Given {sequencing_method}, can you predict the response of the single cell {input} from {species} when exposed to {drug} in {tissue}?\"\n",
    ")\n",
    "\n",
    "for key, value in model.predict(\n",
    "    prompt, \n",
    "    gene_counts=gene_counts, \n",
    "    sc_metadata=sc_metadata, \n",
    "    do_sample=True, \n",
    "    top_p=0.95,\n",
    "    top_k=50,\n",
    "    max_new_tokens=256,\n",
    ").items():\n",
    "    if value is not None:  \n",
    "        print(f\"{key}: {value}\")"
   ]
  }
 ],
 "metadata": {
  "kernelspec": {
   "display_name": "instructcell",
   "language": "python",
   "name": "python3"
  },
  "language_info": {
   "codemirror_mode": {
    "name": "ipython",
    "version": 3
   },
   "file_extension": ".py",
   "mimetype": "text/x-python",
   "name": "python",
   "nbconvert_exporter": "python",
   "pygments_lexer": "ipython3",
   "version": "3.10.16"
  }
 },
 "nbformat": 4,
 "nbformat_minor": 2
}
