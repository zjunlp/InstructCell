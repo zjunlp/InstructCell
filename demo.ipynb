{
 "cells": [
  {
   "cell_type": "code",
   "execution_count": 1,
   "metadata": {},
   "outputs": [
    {
     "name": "stderr",
     "output_type": "stream",
     "text": []
    }
   ],
   "source": [
    "from mmllm.module import InstructCell\n",
    "import anndata\n",
    "import numpy as np\n",
    "from utils import unify_gene_features"
   ]
  },
  {
   "cell_type": "markdown",
   "metadata": {},
   "source": [
    "# Cell type annotation\n",
    "\n",
    "This example demonstrates the cell type annotation task using the **InstructCell** model. The objective is to annotate a single cell based on its gene expression profile and metadata, such as species, tissue, and sequencing method.\n",
    "\n",
    "- **Input Data**: A single-cell dataset in **H5AD format** and a **gene vocabulary file**.\n",
    "- **Metadata**: Metadata from the dataset (e.g., species, tissue, sequencing method) is extracted for annotation.\n",
    "- **Prompt**: The prompt dynamically integrates metadata and the gene expression profile to guide the model.\n",
    "- **Output**: The model predicts annotations for the single cell.\n",
    "\n",
    "Below is the implementation:"
   ]
  },
  {
   "cell_type": "code",
   "execution_count": 2,
   "metadata": {},
   "outputs": [
    {
     "name": "stdout",
     "output_type": "stream",
     "text": [
      "text: Based on the provided details, the single cell from the human sequenced using HiSeq X Ten System and derived from liver has been annotated as Macrophage.\n"
     ]
    }
   ],
   "source": [
    "# Load the pre-trained InstructCell-chat model from HuggingFace\n",
    "model = InstructCell.from_pretrained(\"zjunlp/InstructCell-chat\") \n",
    "\n",
    "# Load the single-cell data (H5AD format) and gene vocabulary file (numpy format)\n",
    "adata = anndata.read_h5ad(\"./exp_log/demo_data/cell_type_annotation/He-2020-Liver/rna.h5ad\")\n",
    "gene_vocab = np.load(\"./exp_log/gene_vocab.npy\")\n",
    "adata = unify_gene_features(adata, gene_vocab, force_gene_symbol_uppercase=False)\n",
    "\n",
    "# Select a random single-cell sample and extract its gene counts and metadata\n",
    "k = np.random.randint(0, len(adata)) \n",
    "gene_counts = adata[k, :].X.toarray()\n",
    "sc_metadata = adata[k, :].obs.iloc[0].to_dict()\n",
    "\n",
    "# Define the model prompt with placeholders for metadata and gene expression profile\n",
    "prompt = (\n",
    "    \"Can you help me annotate this single cell from a {species}? It was sequenced using {sequencing_method} and is derived from {tissue}. The gene expression profile is {input}. Thanks!\"\n",
    ")\n",
    "\n",
    "# Use the model to generate predictions\n",
    "for key, value in model.predict(\n",
    "    prompt, \n",
    "    gene_counts=gene_counts, \n",
    "    sc_metadata=sc_metadata, \n",
    "    do_sample=True, \n",
    "    top_p=0.95,\n",
    "    top_k=50,\n",
    "    max_new_tokens=256,\n",
    ").items():\n",
    "    if value is not None:  \n",
    "        print(f\"{key}: {value}\")"
   ]
  },
  {
   "cell_type": "code",
   "execution_count": null,
   "metadata": {},
   "outputs": [
    {
     "name": "stdout",
     "output_type": "stream",
     "text": [
      "text: Macrophage\n"
     ]
    }
   ],
   "source": [
    "# Load the pre-trained InstructCell-instruct model from HuggingFace\n",
    "model = InstructCell.from_pretrained(\"zjunlp/InstructCell-instruct\") \n",
    "\n",
    "# Load the single-cell data (H5AD format) and gene vocabulary file (numpy format)\n",
    "adata = anndata.read_h5ad(\"./exp_log/demo_data/cell_type_annotation/He-2020-Liver/rna.h5ad\")\n",
    "gene_vocab = np.load(\"./exp_log/gene_vocab.npy\")\n",
    "adata = unify_gene_features(adata, gene_vocab, force_gene_symbol_uppercase=False)\n",
    "\n",
    "# Select a random single-cell sample and extract its gene counts and metadata\n",
    "k = np.random.randint(0, len(adata)) \n",
    "gene_counts = adata[k, :].X.toarray()\n",
    "sc_metadata = adata[k, :].obs.iloc[0].to_dict()\n",
    "\n",
    "# Define the model prompt with placeholders for metadata and gene expression profile\n",
    "prompt = (\n",
    "    \"Can you help me annotate this single cell from a {species}? It was sequenced using {sequencing_method} and is derived from {tissue}. The gene expression profile is {input}. Thanks!\"\n",
    ")\n",
    "\n",
    "# Use the model to generate predictions\n",
    "for key, value in model.predict(\n",
    "    prompt, \n",
    "    gene_counts=gene_counts, \n",
    "    sc_metadata=sc_metadata, \n",
    "    do_sample=True, \n",
    "    top_p=0.95,\n",
    "    top_k=50,\n",
    "    max_new_tokens=256,\n",
    ").items():\n",
    "    if value is not None:  \n",
    "        print(f\"{key}: {value}\")"
   ]
  },
  {
   "cell_type": "markdown",
   "metadata": {},
   "source": [
    "# Conditional pseudo-cell generation\n",
    "\n",
    "This example demonstrates the conditional pseudo-Cell generation task using the **InstructCell** model. The goal is to generate a synthetic gene expression profile based on provided metadata, such as cell type, species, tissue, and sequencing method.\n",
    "\n",
    "- **Input Data**: A single-cell dataset in **H5AD format** and a **gene vocabulary file**.\n",
    "- **Metadata**: Metadata from the dataset (e.g., cell type, species, tissue, sequencing method) is used to define the prompt.\n",
    "- **Prompt**: The prompt dynamically incorporates metadata to guide the model in generating a conditional pseudo-cell profile.\n",
    "- **Output**: The generated gene profile is ranked and displayed, highlighting the top 20 genes with the highest expression levels.\n",
    "\n",
    "Below is the implementation:"
   ]
  },
  {
   "cell_type": "code",
   "execution_count": 4,
   "metadata": {},
   "outputs": [
    {
     "name": "stderr",
     "output_type": "stream",
     "text": [
      "/data/fangyin/anaconda3/envs/instructcell/lib/python3.10/site-packages/anndata/_core/anndata.py:1899: UserWarning: Variable names are not unique. To make them unique, call `.var_names_make_unique`.\n",
      "  utils.warn_names_duplicates(\"var\")\n"
     ]
    },
    {
     "name": "stdout",
     "output_type": "stream",
     "text": [
      "text:\n",
      "Sure, here is a single-cell gene profile based on your specifications: Cell Type: CD4+/CD45RA+/CD25- Naive T Species: human Tissue: peripheral blood Sequencing Method: 10xGenomics (GemCode Technology Platform)\n",
      "cell:\n",
      "RPL13: 83\n",
      "MALAT1: 70\n",
      "RPL13A: 64\n",
      "TMSB4X: 48\n",
      "RPL10: 47\n",
      "B2M: 43\n",
      "RPL18: 35\n",
      "RPS18: 35\n",
      "RPL18A: 35\n",
      "RPS3A: 33\n",
      "RPS4X: 31\n",
      "RPL3: 31\n",
      "RPS12: 29\n",
      "RPS25: 27\n",
      "RPS2: 27\n",
      "FTL: 25\n",
      "RPS6: 25\n",
      "RPS3: 25\n",
      "RPL7: 24\n",
      "RPS19: 24\n"
     ]
    }
   ],
   "source": [
    "# Load the pre-trained InstructCell model from HuggingFace\n",
    "model = InstructCell.from_pretrained(\"zjunlp/InstructCell-chat\") \n",
    "\n",
    "# Load the single-cell data (H5AD format) and gene vocabulary file (numpy format)\n",
    "adata = anndata.read_h5ad(\"./exp_log/demo_data/conditional_pseudo_cell_generation/PBMC68K/rna.h5ad\")\n",
    "gene_vocab = np.load(\"./exp_log/gene_vocab.npy\")\n",
    "adata = unify_gene_features(adata, gene_vocab, force_gene_symbol_uppercase=False)\n",
    "\n",
    "# Select a random single-cell sample and extract its gene counts and metadata\n",
    "k = np.random.randint(0, len(adata)) \n",
    "sc_metadata = adata[k, :].obs.iloc[0].to_dict()\n",
    "\n",
    "# Define the model prompt with placeholders for metadata\n",
    "prompt = (\n",
    "    \"Hey, can you whip up a single-cell gene profile for the given specs: cell type is {cell_type}, species is {species}, tissue is {tissue}, and sequencing method is {sequencing_method}? \"\n",
    ")\n",
    "\n",
    "\n",
    "for key, value in model.predict(\n",
    "    prompt, \n",
    "    # gene_counts=gene_counts, \n",
    "    sc_metadata=sc_metadata, \n",
    "    do_sample=True, \n",
    "    top_p=0.95,\n",
    "    top_k=50,\n",
    "    max_new_tokens=256,\n",
    ").items():\n",
    "    if not isinstance(value, str): \n",
    "        value = '\\n'.join(\n",
    "            f\"{gene_vocab[idx]}: {int(value[idx])}\" for idx in np.argsort(-value)[: 20]\n",
    "        )\n",
    "    print(f\"{key}:\\n{value}\")"
   ]
  },
  {
   "cell_type": "code",
   "execution_count": null,
   "metadata": {},
   "outputs": [
    {
     "name": "stderr",
     "output_type": "stream",
     "text": [
      "/data/fangyin/anaconda3/envs/instructcell/lib/python3.10/site-packages/anndata/_core/anndata.py:1899: UserWarning: Variable names are not unique. To make them unique, call `.var_names_make_unique`.\n",
      "  utils.warn_names_duplicates(\"var\")\n"
     ]
    },
    {
     "name": "stdout",
     "output_type": "stream",
     "text": [
      "text:\n",
      "\n",
      "cell:\n",
      "MALAT1: 81\n",
      "CD74: 41\n",
      "RPL13A: 30\n",
      "RPL18A: 22\n",
      "RPL13: 22\n",
      "RPS6: 18\n",
      "RPL10: 17\n",
      "RPS2: 16\n",
      "RPL11: 14\n",
      "RPS4X: 14\n",
      "RPL7: 12\n",
      "RPL12: 12\n",
      "RPL19: 11\n",
      "RPS18: 11\n",
      "RPS27: 11\n",
      "RPS19: 10\n",
      "HLA-A: 10\n",
      "MT-CO1: 9\n",
      "MT-CO3: 9\n",
      "TMSB4X: 9\n"
     ]
    }
   ],
   "source": [
    "# Load the pre-trained InstructCell-instruct model from HuggingFace\n",
    "model = InstructCell.from_pretrained(\"zjunlp/InstructCell-instruct\") \n",
    "\n",
    "# Load the single-cell data (H5AD format) and gene vocabulary file (numpy format)\n",
    "adata = anndata.read_h5ad(\"./exp_log/demo_data/conditional_pseudo_cell_generation/PBMC68K/rna.h5ad\")\n",
    "gene_vocab = np.load(\"./exp_log/gene_vocab.npy\")\n",
    "adata = unify_gene_features(adata, gene_vocab, force_gene_symbol_uppercase=False)\n",
    "\n",
    "# Select a random single-cell sample and extract its gene counts and metadata\n",
    "k = np.random.randint(0, len(adata)) \n",
    "sc_metadata = adata[k, :].obs.iloc[0].to_dict()\n",
    "\n",
    "# Define the model prompt with placeholders for metadata\n",
    "prompt = (\n",
    "    \"Hey, can you whip up a single-cell gene profile for the given specs: cell type is {cell_type}, species is {species}, tissue is {tissue}, and sequencing method is {sequencing_method}? \"\n",
    ")\n",
    "\n",
    "\n",
    "for key, value in model.predict(\n",
    "    prompt, \n",
    "    # gene_counts=gene_counts, \n",
    "    sc_metadata=sc_metadata, \n",
    "    do_sample=True, \n",
    "    top_p=0.95,\n",
    "    top_k=50,\n",
    "    max_new_tokens=256,\n",
    ").items():\n",
    "    if not isinstance(value, str): \n",
    "        value = '\\n'.join(\n",
    "            f\"{gene_vocab[idx]}: {int(value[idx])}\" for idx in np.argsort(-value)[: 20]\n",
    "        )\n",
    "    print(f\"{key}:\\n{value}\")"
   ]
  },
  {
   "cell_type": "markdown",
   "metadata": {},
   "source": [
    "We also support directly specifying and inputting the exact values for each placeholder in the prompt, as shown in this example："
   ]
  },
  {
   "cell_type": "code",
   "execution_count": 6,
   "metadata": {},
   "outputs": [
    {
     "name": "stderr",
     "output_type": "stream",
     "text": [
      "/data/fangyin/anaconda3/envs/instructcell/lib/python3.10/site-packages/anndata/_core/anndata.py:1899: UserWarning: Variable names are not unique. To make them unique, call `.var_names_make_unique`.\n",
      "  utils.warn_names_duplicates(\"var\")\n"
     ]
    },
    {
     "name": "stdout",
     "output_type": "stream",
     "text": [
      "text:\n",
      "Sure, here's a single-cell gene profile based on your specifications: - Cell Type: CD56+ NK - Species: human - Tissue: peripheral blood - Sequencing Method: 10xGenomics (GemCode Technology Platform) The generated profile is as follows:\n",
      "cell:\n",
      "MALAT1: 43\n",
      "B2M: 28\n",
      "RPS3: 16\n",
      "RPL10: 15\n",
      "GNLY: 12\n",
      "RPS2: 9\n",
      "RPL21: 9\n",
      "RPS6: 9\n",
      "RPS16: 8\n",
      "RPL13: 8\n",
      "NKG7: 8\n",
      "RPS27: 7\n",
      "RPL14: 7\n",
      "RPL7: 7\n",
      "RPS12: 6\n",
      "RPS4X: 6\n",
      "HLA-C: 6\n",
      "RPL3: 6\n",
      "RPL28: 6\n",
      "RPL19: 6\n"
     ]
    }
   ],
   "source": [
    "# Load the pre-trained InstructCell-chat model from HuggingFace\n",
    "model = InstructCell.from_pretrained(\"zjunlp/InstructCell-chat\") \n",
    "\n",
    "# Load the single-cell data (H5AD format) and gene vocabulary file (numpy format)\n",
    "adata = anndata.read_h5ad(\"./exp_log/demo_data/conditional_pseudo_cell_generation/PBMC68K/rna.h5ad\")\n",
    "gene_vocab = np.load(\"./exp_log/gene_vocab.npy\")\n",
    "adata = unify_gene_features(adata, gene_vocab, force_gene_symbol_uppercase=False)\n",
    "\n",
    "# Select a random single-cell sample and extract its metadata\n",
    "k = np.random.randint(0, len(adata)) \n",
    "sc_metadata = adata[k, :].obs.iloc[0].to_dict()\n",
    "\n",
    "# Define the model prompt\n",
    "prompt = (\n",
    "    \"Hey, can you whip up a single-cell gene profile for the given specs: cell type is CD56+ NK, species is human, tissue is peripheral blood, and sequencing method is 10xGenomics (GemCode Technology Platform)? \"\n",
    ")\n",
    "\n",
    "for key, value in model.predict(\n",
    "    prompt, \n",
    "    sc_metadata=sc_metadata, \n",
    "    do_sample=True, \n",
    "    top_p=0.95,\n",
    "    top_k=50,\n",
    "    max_new_tokens=256,\n",
    ").items():\n",
    "    if not isinstance(value, str): \n",
    "        value = '\\n'.join(\n",
    "            f\"{gene_vocab[idx]}: {int(value[idx])}\" for idx in np.argsort(-value)[: 20]\n",
    "        )\n",
    "    print(f\"{key}:\\n{value}\")"
   ]
  },
  {
   "cell_type": "code",
   "execution_count": 7,
   "metadata": {},
   "outputs": [
    {
     "name": "stdout",
     "output_type": "stream",
     "text": [
      "text:\n",
      "\n",
      "cell:\n",
      "B2M: 34\n",
      "MALAT1: 28\n",
      "TMSB4X: 27\n",
      "RPS3: 22\n",
      "RPL3: 19\n",
      "RPS19: 18\n",
      "CCL5: 17\n",
      "RPL21: 17\n",
      "GNLY: 15\n",
      "RPS18: 14\n",
      "RPL10: 12\n",
      "RPL13: 11\n",
      "RPS2: 10\n",
      "RPS12: 10\n",
      "RPL13A: 10\n",
      "NKG7: 10\n",
      "RPS9: 10\n",
      "GZMB: 9\n",
      "TMSB10: 8\n",
      "MT-CO2: 8\n"
     ]
    },
    {
     "name": "stderr",
     "output_type": "stream",
     "text": [
      "/data/fangyin/anaconda3/envs/instructcell/lib/python3.10/site-packages/anndata/_core/anndata.py:1899: UserWarning: Variable names are not unique. To make them unique, call `.var_names_make_unique`.\n",
      "  utils.warn_names_duplicates(\"var\")\n"
     ]
    }
   ],
   "source": [
    "# Load the pre-trained InstructCell-instruct model from HuggingFace\n",
    "model = InstructCell.from_pretrained(\"zjunlp/InstructCell-instruct\") \n",
    "\n",
    "# Load the single-cell data (H5AD format) and gene vocabulary file (numpy format)\n",
    "adata = anndata.read_h5ad(\"./exp_log/demo_data/conditional_pseudo_cell_generation/PBMC68K/rna.h5ad\")\n",
    "gene_vocab = np.load(\"./exp_log/gene_vocab.npy\")\n",
    "adata = unify_gene_features(adata, gene_vocab, force_gene_symbol_uppercase=False)\n",
    "\n",
    "# Select a random single-cell sample and extract its metadata\n",
    "k = np.random.randint(0, len(adata)) \n",
    "sc_metadata = adata[k, :].obs.iloc[0].to_dict()\n",
    "\n",
    "# Define the model prompt\n",
    "prompt = (\n",
    "    \"Hey, can you whip up a single-cell gene profile for the given specs: cell type is CD56+ NK, species is human, tissue is peripheral blood, and sequencing method is 10xGenomics (GemCode Technology Platform)? \"\n",
    ")\n",
    "\n",
    "for key, value in model.predict(\n",
    "    prompt, \n",
    "    sc_metadata=sc_metadata, \n",
    "    do_sample=True, \n",
    "    top_p=0.95,\n",
    "    top_k=50,\n",
    "    max_new_tokens=256,\n",
    ").items():\n",
    "    if not isinstance(value, str): \n",
    "        value = '\\n'.join(\n",
    "            f\"{gene_vocab[idx]}: {int(value[idx])}\" for idx in np.argsort(-value)[: 20]\n",
    "        )\n",
    "    print(f\"{key}:\\n{value}\")"
   ]
  },
  {
   "cell_type": "markdown",
   "metadata": {},
   "source": [
    "# Drug sensitivity prediction\n",
    "\n",
    "This example demonstrates the drug sensitivity prediction task using the **InstructCell** model. The goal is to predict how a single cell responds to a specific drug based on its gene expression profile and associated metadata.\n",
    "\n",
    "- **Input Data**: A single-cell dataset in **H5AD format** and a **gene vocabulary file**.\n",
    "- **Metadata**: Metadata such as species, tissue, drug, and sequencing method are dynamically incorporated into the prompt.\n",
    "- **Prompt**: The prompt guides the model to predict drug sensitivity by providing the gene expression profile and metadata.\n",
    "- **Output**: The model predicts the drug response.\n",
    "\n",
    "Below is the implementation:"
   ]
  },
  {
   "cell_type": "code",
   "execution_count": null,
   "metadata": {},
   "outputs": [
    {
     "name": "stdout",
     "output_type": "stream",
     "text": [
      "text: The single cell from mouse when exposed to BET inhibitor (I-BET-762) in bone marrow is predicted to have Sensitive response.\n"
     ]
    }
   ],
   "source": [
    "# Load the pre-trained InstructCell-chat model from HuggingFace\n",
    "model = InstructCell.from_pretrained(\"zjunlp/InstructCell-chat\") \n",
    "\n",
    "# Load the single-cell data (H5AD format) and gene vocabulary file (numpy format)\n",
    "adata = anndata.read_h5ad(\"./exp_log/demo_data/drug_sensitivity_prediction/GSE110894/rna.h5ad\")\n",
    "gene_vocab = np.load(\"./exp_log/gene_vocab.npy\")\n",
    "adata = unify_gene_features(adata, gene_vocab, force_gene_symbol_uppercase=False)\n",
    "\n",
    "# Select a random single-cell sample and extract its gene counts and metadata\n",
    "k = np.random.randint(0, len(adata)) \n",
    "gene_counts = adata[k, :].X.toarray()\n",
    "sc_metadata = adata[k, :].obs.iloc[0].to_dict()\n",
    "\n",
    "# Define the model prompt with placeholders for metadata and gene expression profile\n",
    "prompt = (\n",
    "    \"Given {sequencing_method}, can you predict the response of the single cell {input} from {species} when exposed to {drug} in {tissue}?\"\n",
    ")\n",
    "\n",
    "for key, value in model.predict(\n",
    "    prompt, \n",
    "    gene_counts=gene_counts, \n",
    "    sc_metadata=sc_metadata, \n",
    "    do_sample=True, \n",
    "    top_p=0.95,\n",
    "    top_k=50,\n",
    "    max_new_tokens=256,\n",
    ").items():\n",
    "    if value is not None:  \n",
    "        print(f\"{key}: {value}\")"
   ]
  },
  {
   "cell_type": "code",
   "execution_count": 9,
   "metadata": {},
   "outputs": [
    {
     "name": "stdout",
     "output_type": "stream",
     "text": [
      "text: Sensitive\n"
     ]
    }
   ],
   "source": [
    "# Load the pre-trained InstructCell-instruct model from HuggingFace\n",
    "model = InstructCell.from_pretrained(\"zjunlp/InstructCell-instruct\") \n",
    "\n",
    "# Load the single-cell data (H5AD format) and gene vocabulary file (numpy format)\n",
    "adata = anndata.read_h5ad(\"./exp_log/demo_data/drug_sensitivity_prediction/GSE110894/rna.h5ad\")\n",
    "gene_vocab = np.load(\"./exp_log/gene_vocab.npy\")\n",
    "adata = unify_gene_features(adata, gene_vocab, force_gene_symbol_uppercase=False)\n",
    "\n",
    "# Select a random single-cell sample and extract its gene counts and metadata\n",
    "k = np.random.randint(0, len(adata)) \n",
    "gene_counts = adata[k, :].X.toarray()\n",
    "sc_metadata = adata[k, :].obs.iloc[0].to_dict()\n",
    "\n",
    "# Define the model prompt with placeholders for metadata and gene expression profile\n",
    "prompt = (\n",
    "    \"Given {sequencing_method}, can you predict the response of the single cell {input} from {species} when exposed to {drug} in {tissue}?\"\n",
    ")\n",
    "\n",
    "for key, value in model.predict(\n",
    "    prompt, \n",
    "    gene_counts=gene_counts, \n",
    "    sc_metadata=sc_metadata, \n",
    "    do_sample=True, \n",
    "    top_p=0.95,\n",
    "    top_k=50,\n",
    "    max_new_tokens=256,\n",
    ").items():\n",
    "    if value is not None:  \n",
    "        print(f\"{key}: {value}\")"
   ]
  }
 ],
 "metadata": {
  "kernelspec": {
   "display_name": "instructcell",
   "language": "python",
   "name": "python3"
  },
  "language_info": {
   "codemirror_mode": {
    "name": "ipython",
    "version": 3
   },
   "file_extension": ".py",
   "mimetype": "text/x-python",
   "name": "python",
   "nbconvert_exporter": "python",
   "pygments_lexer": "ipython3",
   "version": "3.10.16"
  }
 },
 "nbformat": 4,
 "nbformat_minor": 2
}
